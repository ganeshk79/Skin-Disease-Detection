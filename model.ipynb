{
 "cells": [
  {
   "cell_type": "code",
   "execution_count": 1,
   "id": "f94e3c9a-71bd-4a3a-a2a1-a76c19cd0163",
   "metadata": {},
   "outputs": [],
   "source": [
    "import numpy as np\n",
    "import pandas as pd\n",
    "import os\n",
    "import seaborn as sns  \n",
    "import matplotlib.pyplot as plt\n",
    "import cv2\n",
    "from glob import glob\n",
    "from PIL import Image\n",
    "from sklearn.preprocessing import LabelEncoder, StandardScaler\n",
    "from sklearn.model_selection import train_test_split\n",
    "from sklearn.metrics import confusion_matrix, accuracy_score\n",
    "from sklearn.neighbors import KNeighborsClassifier\n",
    "from sklearn.svm import SVC\n",
    "from sklearn.naive_bayes import GaussianNB\n",
    "from sklearn.tree import DecisionTreeClassifier\n",
    "import tensorflow as tf\n",
    "from tensorflow.keras.utils import to_categorical\n",
    "from tensorflow.keras.models import Sequential, load_model\n",
    "from tensorflow.keras.layers import Dense, Dropout, Flatten, Conv2D, MaxPool2D\n",
    "from tensorflow.keras.applications import VGG16, ResNet50, EfficientNetB0"
   ]
  },
  {
   "cell_type": "code",
   "execution_count": 10,
   "id": "abc5549d-0a64-4622-8f7e-3577661f6249",
   "metadata": {},
   "outputs": [],
   "source": [
    "SIZE = 32\n",
    "NUM_CLASSES = 7\n",
    "\n",
    "# Load Data\n",
    "skin_df = pd.read_csv('/Python/Ham10000/archive/HAM10000_metadata.csv')\n",
    "le = LabelEncoder()\n",
    "skin_df['label'] = le.fit_transform(skin_df['dx'])\n",
    "\n",
    "# Image Paths\n",
    "image_path = {os.path.splitext(os.path.basename(x))[0]: x for x in glob(os.path.join('D://Python/Ham10000/archive/', '*', '*.jpg'))}\n",
    "skin_df['path'] = skin_df['image_id'].map(image_path.get)\n",
    "skin_df['image'] = skin_df['path'].map(lambda x: np.asarray(Image.open(x).resize((SIZE, SIZE))))\n",
    "\n",
    "# Data Preparation\n",
    "X = np.asarray(skin_df['image'].tolist()) / 255.0\n",
    "Y = to_categorical(skin_df['label'], num_classes=NUM_CLASSES)\n",
    "x_train, x_test, y_train, y_test = train_test_split(X, Y, test_size=0.25, random_state=42)\n",
    "\n",
    "# CNN Model"
   ]
  },
  {
   "cell_type": "code",
   "execution_count": 11,
   "id": "39dd372d-9aeb-4dca-b362-b6bf35f483d2",
   "metadata": {},
   "outputs": [],
   "source": [
    "\n",
    "# CNN Model\n",
    "def create_cnn_model():\n",
    "    model = Sequential([\n",
    "        Conv2D(64, (3, 3), activation='relu', input_shape=(SIZE, SIZE, 3)),\n",
    "        MaxPool2D(pool_size=(2, 2)),\n",
    "        Dropout(0.3),\n",
    "        Conv2D(128, (3, 3), activation='relu'),\n",
    "        MaxPool2D(pool_size=(2, 2)),\n",
    "        Dropout(0.3),\n",
    "        Flatten(),\n",
    "        Dense(128, activation='relu'),\n",
    "        Dense(NUM_CLASSES, activation='softmax')\n",
    "    ])\n",
    "    model.compile(loss='categorical_crossentropy', optimizer='adam', metrics=['accuracy'])\n",
    "    return model\n"
   ]
  },
  {
   "cell_type": "code",
   "execution_count": 12,
   "id": "74d19af3-8b1c-400f-9149-6699b5949831",
   "metadata": {},
   "outputs": [],
   "source": [
    "def create_pretrained_model():\n",
    "    base_model = ResNet50(weights='imagenet', include_top=False, input_shape=(SIZE, SIZE, 3))\n",
    "    base_model.trainable = False\n",
    "    model = Sequential([\n",
    "        base_model,\n",
    "        Flatten(),\n",
    "        Dense(128, activation='relu'),\n",
    "        Dropout(0.3),\n",
    "        Dense(NUM_CLASSES, activation='softmax')\n",
    "    ])\n",
    "    model.compile(loss='categorical_crossentropy', optimizer='adam', metrics=['accuracy'])\n",
    "    return model\n"
   ]
  },
  {
   "cell_type": "code",
   "execution_count": 13,
   "id": "8e443829-12c8-4204-bdec-4eb9758c66e9",
   "metadata": {},
   "outputs": [
    {
     "name": "stdout",
     "output_type": "stream",
     "text": [
      "Epoch 1/20\n"
     ]
    },
    {
     "name": "stderr",
     "output_type": "stream",
     "text": [
      "c:\\Users\\ganes\\AppData\\Local\\Programs\\Python\\Python310\\lib\\site-packages\\keras\\src\\layers\\convolutional\\base_conv.py:107: UserWarning: Do not pass an `input_shape`/`input_dim` argument to a layer. When using Sequential models, prefer using an `Input(shape)` object as the first layer in the model instead.\n",
      "  super().__init__(activity_regularizer=activity_regularizer, **kwargs)\n"
     ]
    },
    {
     "name": "stdout",
     "output_type": "stream",
     "text": [
      "\u001b[1m470/470\u001b[0m \u001b[32m━━━━━━━━━━━━━━━━━━━━\u001b[0m\u001b[37m\u001b[0m \u001b[1m9s\u001b[0m 17ms/step - accuracy: 0.6654 - loss: 1.0470 - val_accuracy: 0.6833 - val_loss: 0.9444\n",
      "Epoch 2/20\n",
      "\u001b[1m470/470\u001b[0m \u001b[32m━━━━━━━━━━━━━━━━━━━━\u001b[0m\u001b[37m\u001b[0m \u001b[1m8s\u001b[0m 17ms/step - accuracy: 0.6870 - loss: 0.8946 - val_accuracy: 0.6877 - val_loss: 0.8527\n",
      "Epoch 3/20\n",
      "\u001b[1m470/470\u001b[0m \u001b[32m━━━━━━━━━━━━━━━━━━━━\u001b[0m\u001b[37m\u001b[0m \u001b[1m8s\u001b[0m 17ms/step - accuracy: 0.7017 - loss: 0.8372 - val_accuracy: 0.7029 - val_loss: 0.7952\n",
      "Epoch 4/20\n",
      "\u001b[1m470/470\u001b[0m \u001b[32m━━━━━━━━━━━━━━━━━━━━\u001b[0m\u001b[37m\u001b[0m \u001b[1m8s\u001b[0m 17ms/step - accuracy: 0.7006 - loss: 0.8275 - val_accuracy: 0.7025 - val_loss: 0.7869\n",
      "Epoch 5/20\n",
      "\u001b[1m470/470\u001b[0m \u001b[32m━━━━━━━━━━━━━━━━━━━━\u001b[0m\u001b[37m\u001b[0m \u001b[1m8s\u001b[0m 16ms/step - accuracy: 0.7231 - loss: 0.7650 - val_accuracy: 0.6981 - val_loss: 0.8079\n",
      "Epoch 6/20\n",
      "\u001b[1m470/470\u001b[0m \u001b[32m━━━━━━━━━━━━━━━━━━━━\u001b[0m\u001b[37m\u001b[0m \u001b[1m8s\u001b[0m 17ms/step - accuracy: 0.7221 - loss: 0.7502 - val_accuracy: 0.7141 - val_loss: 0.7646\n",
      "Epoch 7/20\n",
      "\u001b[1m470/470\u001b[0m \u001b[32m━━━━━━━━━━━━━━━━━━━━\u001b[0m\u001b[37m\u001b[0m \u001b[1m8s\u001b[0m 18ms/step - accuracy: 0.7301 - loss: 0.7172 - val_accuracy: 0.7220 - val_loss: 0.7406\n",
      "Epoch 8/20\n",
      "\u001b[1m470/470\u001b[0m \u001b[32m━━━━━━━━━━━━━━━━━━━━\u001b[0m\u001b[37m\u001b[0m \u001b[1m8s\u001b[0m 17ms/step - accuracy: 0.7259 - loss: 0.7240 - val_accuracy: 0.7224 - val_loss: 0.7435\n",
      "Epoch 9/20\n",
      "\u001b[1m470/470\u001b[0m \u001b[32m━━━━━━━━━━━━━━━━━━━━\u001b[0m\u001b[37m\u001b[0m \u001b[1m8s\u001b[0m 17ms/step - accuracy: 0.7481 - loss: 0.6658 - val_accuracy: 0.7276 - val_loss: 0.7262\n",
      "Epoch 10/20\n",
      "\u001b[1m470/470\u001b[0m \u001b[32m━━━━━━━━━━━━━━━━━━━━\u001b[0m\u001b[37m\u001b[0m \u001b[1m8s\u001b[0m 17ms/step - accuracy: 0.7579 - loss: 0.6386 - val_accuracy: 0.7348 - val_loss: 0.7035\n",
      "Epoch 11/20\n",
      "\u001b[1m470/470\u001b[0m \u001b[32m━━━━━━━━━━━━━━━━━━━━\u001b[0m\u001b[37m\u001b[0m \u001b[1m8s\u001b[0m 17ms/step - accuracy: 0.7588 - loss: 0.6272 - val_accuracy: 0.7420 - val_loss: 0.7048\n",
      "Epoch 12/20\n",
      "\u001b[1m470/470\u001b[0m \u001b[32m━━━━━━━━━━━━━━━━━━━━\u001b[0m\u001b[37m\u001b[0m \u001b[1m8s\u001b[0m 17ms/step - accuracy: 0.7738 - loss: 0.6062 - val_accuracy: 0.7480 - val_loss: 0.6949\n",
      "Epoch 13/20\n",
      "\u001b[1m470/470\u001b[0m \u001b[32m━━━━━━━━━━━━━━━━━━━━\u001b[0m\u001b[37m\u001b[0m \u001b[1m8s\u001b[0m 17ms/step - accuracy: 0.7798 - loss: 0.5864 - val_accuracy: 0.7185 - val_loss: 0.7863\n",
      "Epoch 14/20\n",
      "\u001b[1m470/470\u001b[0m \u001b[32m━━━━━━━━━━━━━━━━━━━━\u001b[0m\u001b[37m\u001b[0m \u001b[1m8s\u001b[0m 17ms/step - accuracy: 0.7865 - loss: 0.5796 - val_accuracy: 0.7512 - val_loss: 0.6915\n",
      "Epoch 15/20\n",
      "\u001b[1m470/470\u001b[0m \u001b[32m━━━━━━━━━━━━━━━━━━━━\u001b[0m\u001b[37m\u001b[0m \u001b[1m8s\u001b[0m 18ms/step - accuracy: 0.8009 - loss: 0.5419 - val_accuracy: 0.7372 - val_loss: 0.7154\n",
      "Epoch 16/20\n",
      "\u001b[1m470/470\u001b[0m \u001b[32m━━━━━━━━━━━━━━━━━━━━\u001b[0m\u001b[37m\u001b[0m \u001b[1m8s\u001b[0m 17ms/step - accuracy: 0.7917 - loss: 0.5409 - val_accuracy: 0.7296 - val_loss: 0.7673\n",
      "Epoch 17/20\n",
      "\u001b[1m470/470\u001b[0m \u001b[32m━━━━━━━━━━━━━━━━━━━━\u001b[0m\u001b[37m\u001b[0m \u001b[1m8s\u001b[0m 18ms/step - accuracy: 0.7966 - loss: 0.5274 - val_accuracy: 0.7456 - val_loss: 0.7160\n",
      "Epoch 18/20\n",
      "\u001b[1m470/470\u001b[0m \u001b[32m━━━━━━━━━━━━━━━━━━━━\u001b[0m\u001b[37m\u001b[0m \u001b[1m8s\u001b[0m 18ms/step - accuracy: 0.8140 - loss: 0.4862 - val_accuracy: 0.7476 - val_loss: 0.7094\n",
      "Epoch 19/20\n",
      "\u001b[1m470/470\u001b[0m \u001b[32m━━━━━━━━━━━━━━━━━━━━\u001b[0m\u001b[37m\u001b[0m \u001b[1m9s\u001b[0m 18ms/step - accuracy: 0.8138 - loss: 0.4872 - val_accuracy: 0.7416 - val_loss: 0.7250\n",
      "Epoch 20/20\n",
      "\u001b[1m470/470\u001b[0m \u001b[32m━━━━━━━━━━━━━━━━━━━━\u001b[0m\u001b[37m\u001b[0m \u001b[1m8s\u001b[0m 18ms/step - accuracy: 0.8388 - loss: 0.4353 - val_accuracy: 0.7336 - val_loss: 0.7648\n"
     ]
    },
    {
     "data": {
      "text/plain": [
       "<keras.src.callbacks.history.History at 0x18b70a33820>"
      ]
     },
     "execution_count": 13,
     "metadata": {},
     "output_type": "execute_result"
    }
   ],
   "source": [
    "\n",
    "# Train CNN\n",
    "cnn_model = create_cnn_model()\n",
    "cnn_model.fit(x_train, y_train, epochs=20, batch_size=16, validation_data=(x_test, y_test))\n"
   ]
  },
  {
   "cell_type": "code",
   "execution_count": 14,
   "id": "e71a2d60-97a5-4e94-89d7-075ee46f6cf9",
   "metadata": {},
   "outputs": [
    {
     "name": "stdout",
     "output_type": "stream",
     "text": [
      "\u001b[1m79/79\u001b[0m \u001b[32m━━━━━━━━━━━━━━━━━━━━\u001b[0m\u001b[37m\u001b[0m \u001b[1m1s\u001b[0m 9ms/step - accuracy: 0.7076 - loss: 0.8105\n",
      "Test accuracy: 0.7336261868476868\n"
     ]
    }
   ],
   "source": [
    "score = cnn_model.evaluate(x_test, y_test)\n",
    "print('Test accuracy:', score[1])\n"
   ]
  },
  {
   "cell_type": "code",
   "execution_count": null,
   "id": "e091063f-c836-4047-bbe5-5b1445e3c6c9",
   "metadata": {},
   "outputs": [
    {
     "name": "stdout",
     "output_type": "stream",
     "text": [
      "Epoch 1/10\n",
      "\u001b[1m470/470\u001b[0m \u001b[32m━━━━━━━━━━━━━━━━━━━━\u001b[0m\u001b[37m\u001b[0m \u001b[1m51s\u001b[0m 101ms/step - accuracy: 0.6473 - loss: 1.3406 - val_accuracy: 0.6661 - val_loss: 1.1024\n",
      "Epoch 2/10\n",
      "\u001b[1m470/470\u001b[0m \u001b[32m━━━━━━━━━━━━━━━━━━━━\u001b[0m\u001b[37m\u001b[0m \u001b[1m0s\u001b[0m 2s/step - accuracy: 0.6634 - loss: 1.1652"
     ]
    }
   ],
   "source": [
    "\n",
    "# Train Pre-trained Model\n",
    "pretrained_model = create_pretrained_model()\n",
    "pretrained_model.fit(x_train, y_train, epochs=10, batch_size=16, validation_data=(x_test, y_test))\n"
   ]
  },
  {
   "cell_type": "code",
   "execution_count": null,
   "id": "71f3a6b7-7804-4e4d-a50d-7570a45d92a8",
   "metadata": {},
   "outputs": [],
   "source": []
  },
  {
   "cell_type": "code",
   "execution_count": null,
   "id": "3e7790ce",
   "metadata": {},
   "outputs": [],
   "source": []
  },
  {
   "cell_type": "code",
   "execution_count": null,
   "id": "105d2d84",
   "metadata": {},
   "outputs": [],
   "source": []
  },
  {
   "cell_type": "code",
   "execution_count": null,
   "id": "efc0cd8e",
   "metadata": {},
   "outputs": [],
   "source": []
  },
  {
   "cell_type": "code",
   "execution_count": null,
   "id": "5d1e84f7",
   "metadata": {},
   "outputs": [],
   "source": []
  }
 ],
 "metadata": {
  "kernelspec": {
   "display_name": "Python 3",
   "language": "python",
   "name": "python3"
  },
  "language_info": {
   "codemirror_mode": {
    "name": "ipython",
    "version": 3
   },
   "file_extension": ".py",
   "mimetype": "text/x-python",
   "name": "python",
   "nbconvert_exporter": "python",
   "pygments_lexer": "ipython3",
   "version": "3.10.11"
  }
 },
 "nbformat": 4,
 "nbformat_minor": 5
}
